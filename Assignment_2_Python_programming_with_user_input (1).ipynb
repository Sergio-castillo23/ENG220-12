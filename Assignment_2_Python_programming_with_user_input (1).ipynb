{
  "nbformat": 4,
  "nbformat_minor": 0,
  "metadata": {
    "colab": {
      "provenance": []
    },
    "kernelspec": {
      "name": "python3",
      "display_name": "Python 3"
    },
    "language_info": {
      "name": "python"
    }
  },
  "cells": [
    {
      "cell_type": "markdown",
      "source": [
        "Part 1"
      ],
      "metadata": {
        "id": "USNLwczPzGGE"
      }
    },
    {
      "cell_type": "code",
      "execution_count": 2,
      "metadata": {
        "colab": {
          "base_uri": "https://localhost:8080/"
        },
        "id": "V6yPPYlbzBSJ",
        "outputId": "436a1c36-e700-4c22-c354-f656cfa08b44"
      },
      "outputs": [
        {
          "output_type": "stream",
          "name": "stdout",
          "text": [
            "Enter the quantity for apple: 1\n",
            "Enter the quantity for banana: 1\n",
            "Enter the quantity for cherry: 1\n",
            "Enter the quantity for mango: 1\n",
            "Enter the quantity for pear: 1\n",
            "11.700000000000001\n"
          ]
        }
      ],
      "source": [
        "fruits = [\"apple\", \"banana\", \"cherry\",\"mango\",\"pear\"]\n",
        "fruit_prices = {\n",
        "    \"apple\": {\"price\": 2.9},\n",
        "    \"banana\": {\"price\":1.5},\n",
        "    \"cherry\": {\"price\":1.2},\n",
        "    \"mango\": {\"price\":3.7},\n",
        "    \"pear\": {\"price\":2.4}\n",
        "}\n",
        "\n",
        "total=0\n",
        "for fruit in fruits:\n",
        "    quantity = int(input(f\"Enter the quantity for {fruit}: \"))\n",
        "    fruit_prices[fruit][\"quantity\"] = quantity\n",
        "    price = fruit_prices[fruit][\"price\"]\n",
        "    total += price * quantity\n",
        "print(total)"
      ]
    },
    {
      "cell_type": "markdown",
      "source": [
        "Part 2"
      ],
      "metadata": {
        "id": "1OwDHQ_szYLK"
      }
    },
    {
      "cell_type": "code",
      "source": [
        "name = input(\"Enter a sentance: \")\n",
        "unique_words = set(name.split())\n",
        "print(unique_words)\n",
        "total_unique = len(unique_words)\n",
        "print(total_unique)"
      ],
      "metadata": {
        "colab": {
          "base_uri": "https://localhost:8080/"
        },
        "id": "N1N-WDVlzZcl",
        "outputId": "b3185f36-6d80-4e70-ef20-9ac937b7114e"
      },
      "execution_count": 3,
      "outputs": [
        {
          "output_type": "stream",
          "name": "stdout",
          "text": [
            "Enter a sentance: engineering is cool\n",
            "{'is', 'cool', 'engineering'}\n",
            "3\n"
          ]
        }
      ]
    },
    {
      "cell_type": "markdown",
      "source": [
        "Part 3"
      ],
      "metadata": {
        "id": "gy5F94ZlzeU-"
      }
    },
    {
      "cell_type": "code",
      "source": [
        "name_input = input(\"Enter a name: \")\n",
        "name_dict = {\"maria\":{\"Mango\"}, \"jose\":{\"apple\"}, \"alex\":{\"starfruit\"}}\n",
        "\n",
        "print(name_dict[name_input])"
      ],
      "metadata": {
        "colab": {
          "base_uri": "https://localhost:8080/"
        },
        "id": "iQjGx4o8zf6B",
        "outputId": "ee1c13be-17ce-4625-9401-6da66ea64e44"
      },
      "execution_count": 4,
      "outputs": [
        {
          "output_type": "stream",
          "name": "stdout",
          "text": [
            "Enter a name: maria\n",
            "{'Mango'}\n"
          ]
        }
      ]
    },
    {
      "cell_type": "markdown",
      "source": [
        "Part 4"
      ],
      "metadata": {
        "id": "q2KbLSghzx65"
      }
    },
    {
      "cell_type": "code",
      "source": [
        "num = int(input(\"Enter a number: \"))\n",
        "for i in range(1, 11):\n",
        "    print(num, \"x\", i, \"=\", num * i)"
      ],
      "metadata": {
        "colab": {
          "base_uri": "https://localhost:8080/"
        },
        "id": "R4bewvliz0bJ",
        "outputId": "d527de30-89ee-4c34-c780-223de2078ba6"
      },
      "execution_count": 5,
      "outputs": [
        {
          "output_type": "stream",
          "name": "stdout",
          "text": [
            "Enter a number: 2\n",
            "2 x 1 = 2\n",
            "2 x 2 = 4\n",
            "2 x 3 = 6\n",
            "2 x 4 = 8\n",
            "2 x 5 = 10\n",
            "2 x 6 = 12\n",
            "2 x 7 = 14\n",
            "2 x 8 = 16\n",
            "2 x 9 = 18\n",
            "2 x 10 = 20\n"
          ]
        }
      ]
    },
    {
      "cell_type": "markdown",
      "source": [
        "Part 5\n"
      ],
      "metadata": {
        "id": "XE7lTsaWz7zd"
      }
    },
    {
      "cell_type": "code",
      "source": [
        "def add(x, y):\n",
        "    return x + y\n",
        "\n",
        "def subtract(x, y):\n",
        "    return x - y\n",
        "\n",
        "def multiply(x, y):\n",
        "    return x * y\n",
        "\n",
        "def divide(x, y):\n",
        "    return x / y\n",
        "\n",
        "x=int(input(\"enter a number\"))\n",
        "y=int(input(\"enter a number\"))\n",
        "print(\"Select operation.\")\n",
        "print(\"+\")\n",
        "print(\"-\")\n",
        "print(\"*\")\n",
        "print(\"/\")\n",
        "choice = input(\"Enter choice(+/-/*//): \")\n",
        "\n",
        "if choice == '+':\n",
        "    print(x, \"+\", y, \"=\", add(x, y))\n",
        "elif choice == '-':\n",
        "    print(x, \"-\", y, \"=\", subtract(x, y))\n",
        "elif choice == '*':\n",
        "    print(x, \"*\", y, \"=\", multiply(x, y))\n",
        "elif choice == '/':\n",
        "    print(x, \"/\", y, \"=\", divide(x, y))\n",
        "else:\n",
        "    print(\"Invalid Input\")"
      ],
      "metadata": {
        "colab": {
          "base_uri": "https://localhost:8080/"
        },
        "id": "dp9_nsEUz-Z-",
        "outputId": "44dee469-21b4-4230-853c-432939670af9"
      },
      "execution_count": 6,
      "outputs": [
        {
          "output_type": "stream",
          "name": "stdout",
          "text": [
            "enter a number1\n",
            "enter a number1\n",
            "Select operation.\n",
            "+\n",
            "-\n",
            "*\n",
            "/\n",
            "Enter choice(+/-/*//): +\n",
            "1 + 1 = 2\n"
          ]
        }
      ]
    }
  ]
}